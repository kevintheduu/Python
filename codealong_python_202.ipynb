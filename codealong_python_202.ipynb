{
 "cells": [
  {
   "cell_type": "markdown",
   "metadata": {},
   "source": [
    "# More Python Essentials!\n",
    "\n",
    "## Methods\n",
    "\n",
    "A method is a function that belongs to an object. And in Python, most things are objects! Naturally, the methods that belong to a particular object can vary depending on the object's datatype.\n",
    "\n",
    "### String Methods\n",
    "\n",
    "Here are some useful methods for strings:\n",
    "\n",
    "- ```.upper()```: converts a string to uppercase\n",
    "- ```.lower()```: converts a string to lowercase\n",
    "- ```.capitalize()```: makes the first letter of a string a capital"
   ]
  },
  {
   "cell_type": "code",
   "execution_count": null,
   "metadata": {},
   "outputs": [],
   "source": []
  },
  {
   "cell_type": "code",
   "execution_count": null,
   "metadata": {},
   "outputs": [],
   "source": []
  },
  {
   "cell_type": "code",
   "execution_count": null,
   "metadata": {},
   "outputs": [],
   "source": []
  },
  {
   "cell_type": "code",
   "execution_count": null,
   "metadata": {},
   "outputs": [],
   "source": []
  },
  {
   "cell_type": "code",
   "execution_count": null,
   "metadata": {},
   "outputs": [],
   "source": []
  },
  {
   "cell_type": "code",
   "execution_count": null,
   "metadata": {},
   "outputs": [],
   "source": []
  },
  {
   "cell_type": "code",
   "execution_count": 8,
   "metadata": {},
   "outputs": [
    {
     "name": "stdout",
     "output_type": "stream",
     "text": [
      "Greg Damico\n"
     ]
    }
   ],
   "source": [
    "first_name = 'greg'\n",
    "last_name = 'damico'\n",
    "\n",
    "print(first_name.title() +' ' + last_name.title())# Capitalize my name without using .capitalize()!\n"
   ]
  },
  {
   "cell_type": "code",
   "execution_count": 9,
   "metadata": {},
   "outputs": [
    {
     "data": {
      "text/plain": [
       "'Greg Damico'"
      ]
     },
     "execution_count": 9,
     "metadata": {},
     "output_type": "execute_result"
    }
   ],
   "source": [
    "first_name[0].upper() + first_name[1:].lower() + ' ' +last_name[0].upper() +last_name[1:].lower()"
   ]
  },
  {
   "cell_type": "code",
   "execution_count": null,
   "metadata": {},
   "outputs": [],
   "source": []
  },
  {
   "cell_type": "code",
   "execution_count": null,
   "metadata": {},
   "outputs": [],
   "source": []
  },
  {
   "cell_type": "markdown",
   "metadata": {},
   "source": [
    "### List Methods\n",
    "\n",
    "Here are some useful methods for lists:\n",
    "\n",
    "- ```.append()```: adds an element to the end of a list\n",
    "- ```.pop()```: removes an element from the list\n",
    "- ```.extend()```: adds multiple elements to the end of a list"
   ]
  },
  {
   "cell_type": "code",
   "execution_count": 12,
   "metadata": {},
   "outputs": [
    {
     "data": {
      "text/plain": [
       "[1, 2, 4, 8, 16]"
      ]
     },
     "execution_count": 12,
     "metadata": {},
     "output_type": "execute_result"
    }
   ],
   "source": [
    "list_1 = [1, 2, 4]\n",
    "extra = 8\n",
    "list_2 = [8, 16]\n",
    "\n",
    "\n",
    "list_1.extend(list_2)\n",
    "\n",
    "# Note that this alters list_1!\n",
    "list_1"
   ]
  },
  {
   "cell_type": "code",
   "execution_count": 13,
   "metadata": {},
   "outputs": [
    {
     "data": {
      "text/plain": [
       "[1, 2, 4, 8, 16]"
      ]
     },
     "execution_count": 13,
     "metadata": {},
     "output_type": "execute_result"
    }
   ],
   "source": [
    "list_1"
   ]
  },
  {
   "cell_type": "code",
   "execution_count": 20,
   "metadata": {},
   "outputs": [
    {
     "data": {
      "text/plain": [
       "['s',\n",
       " 'u',\n",
       " 'p',\n",
       " 'e',\n",
       " 'r',\n",
       " 'c',\n",
       " 'a',\n",
       " 'l',\n",
       " 'i',\n",
       " 'f',\n",
       " 'r',\n",
       " 'a',\n",
       " 'g',\n",
       " 'i',\n",
       " 'l',\n",
       " 'i',\n",
       " 's',\n",
       " 't',\n",
       " 'i',\n",
       " 'c',\n",
       " 'e',\n",
       " 'x',\n",
       " 'p',\n",
       " 'i',\n",
       " 'a',\n",
       " 'l',\n",
       " 'i',\n",
       " 'd',\n",
       " 'o',\n",
       " 'c',\n",
       " 'i',\n",
       " 'o',\n",
       " 'u',\n",
       " 's']"
      ]
     },
     "execution_count": 20,
     "metadata": {},
     "output_type": "execute_result"
    }
   ],
   "source": [
    "# Let's write a loop that will build a list of the characters of the\n",
    "# string: 'supercalifragilisticexpialidocious'\n",
    "\n",
    "word = 'supercalifragilisticexpialidocious'\n",
    "\n",
    "char_list = []\n",
    "for letter in word:\n",
    "    char_list.append(letter)\n",
    "    \n",
    "char_list\n"
   ]
  },
  {
   "cell_type": "code",
   "execution_count": 22,
   "metadata": {},
   "outputs": [
    {
     "name": "stdout",
     "output_type": "stream",
     "text": [
      "['s', 'u', 'p', 'e', 'r', 'c', 'a', 'l', 'i', 'f', 'r', 'a', 'g', 'i', 'l', 'i', 's', 't', 'i', 'c', 'e', 'x', 'p', 'i', 'a', 'l', 'i', 'd', 'o', 'c', 'i', 'o', 'u', 's']\n"
     ]
    }
   ],
   "source": [
    "print([ for x in word])"
   ]
  },
  {
   "cell_type": "code",
   "execution_count": 16,
   "metadata": {
    "scrolled": true
   },
   "outputs": [
    {
     "data": {
      "text/plain": [
       "['supercalifragilisticexpialidocious']"
      ]
     },
     "execution_count": 16,
     "metadata": {},
     "output_type": "execute_result"
    }
   ],
   "source": []
  },
  {
   "cell_type": "code",
   "execution_count": 28,
   "metadata": {},
   "outputs": [
    {
     "ename": "IndexError",
     "evalue": "pop from empty list",
     "output_type": "error",
     "traceback": [
      "\u001b[0;31m---------------------------------------------------------------------------\u001b[0m",
      "\u001b[0;31mIndexError\u001b[0m                                Traceback (most recent call last)",
      "\u001b[0;32m<ipython-input-28-b4ca1cf06a01>\u001b[0m in \u001b[0;36m<module>\u001b[0;34m\u001b[0m\n\u001b[0;32m----> 1\u001b[0;31m \u001b[0mlist_1\u001b[0m\u001b[0;34m.\u001b[0m\u001b[0mpop\u001b[0m\u001b[0;34m(\u001b[0m\u001b[0;34m)\u001b[0m\u001b[0;34m\u001b[0m\u001b[0;34m\u001b[0m\u001b[0m\n\u001b[0m\u001b[1;32m      2\u001b[0m \u001b[0;34m\u001b[0m\u001b[0m\n\u001b[1;32m      3\u001b[0m \u001b[0;31m# What does this return?\u001b[0m\u001b[0;34m\u001b[0m\u001b[0;34m\u001b[0m\u001b[0;34m\u001b[0m\u001b[0m\n\u001b[1;32m      4\u001b[0m \u001b[0;31m# What does list_1 look like now?\u001b[0m\u001b[0;34m\u001b[0m\u001b[0;34m\u001b[0m\u001b[0;34m\u001b[0m\u001b[0m\n\u001b[1;32m      5\u001b[0m \u001b[0mlist_1\u001b[0m\u001b[0;34m\u001b[0m\u001b[0;34m\u001b[0m\u001b[0m\n",
      "\u001b[0;31mIndexError\u001b[0m: pop from empty list"
     ]
    }
   ],
   "source": [
    "list_1.pop()\n",
    "\n",
    "# What does this return?\n",
    "# What does list_1 look like now?\n",
    "list_1"
   ]
  },
  {
   "cell_type": "markdown",
   "metadata": {},
   "source": [
    "### List Comprehension"
   ]
  },
  {
   "cell_type": "markdown",
   "metadata": {},
   "source": [
    "List comprehension is a handy way of generating a new list from existing lists.\n",
    "\n",
    "Suppose I start with a simple list."
   ]
  },
  {
   "cell_type": "code",
   "execution_count": 29,
   "metadata": {},
   "outputs": [],
   "source": [
    "primes = [2, 3, 5, 7, 11, 13, 17, 19]"
   ]
  },
  {
   "cell_type": "markdown",
   "metadata": {},
   "source": [
    "What I want now to do is to build a new list that comprises doubles of primes. I can do this with list comprehension!"
   ]
  },
  {
   "cell_type": "markdown",
   "metadata": {},
   "source": [
    "The syntax is: ```[ f(x) for x in [original list] ]```"
   ]
  },
  {
   "cell_type": "code",
   "execution_count": 31,
   "metadata": {},
   "outputs": [
    {
     "name": "stdout",
     "output_type": "stream",
     "text": [
      "[4, 6, 10, 14, 22, 26, 34, 38]\n"
     ]
    }
   ],
   "source": [
    "print([2*prime for prime in primes])"
   ]
  },
  {
   "cell_type": "markdown",
   "metadata": {},
   "source": [
    "### Dictionary Methods\n",
    "\n",
    "Here are some useful methods for dictionaries:\n",
    "\n",
    "- ```.keys()```: returns an array of the dictionary's keys\n",
    "- ```.values()```: returns an array of the dictionary's values\n",
    "- ```.items()```: returns an array of key-value tuples"
   ]
  },
  {
   "cell_type": "code",
   "execution_count": 33,
   "metadata": {},
   "outputs": [],
   "source": [
    "zoo = {1: 'giraffe', 2: 'elephant', 3: 'monkey'}"
   ]
  },
  {
   "cell_type": "code",
   "execution_count": 42,
   "metadata": {},
   "outputs": [
    {
     "data": {
      "text/plain": [
       "dict_items([(1, 'giraffe'), (2, 'elephant'), (3, 'monkey')])"
      ]
     },
     "execution_count": 42,
     "metadata": {},
     "output_type": "execute_result"
    }
   ],
   "source": [
    "# Use the .keys() method to print the keys of this dictionary!\n",
    "\n",
    "# Use the .values() method to print the values of this dictionary!\n",
    "zoo.items()\n",
    "\n",
    "#for item in zoo.items():\n",
    " #   print(item[-1])"
   ]
  },
  {
   "cell_type": "markdown",
   "metadata": {},
   "source": [
    "## Zipping"
   ]
  },
  {
   "cell_type": "markdown",
   "metadata": {},
   "source": [
    "Zipping is a way of merging two arrays into one. The result can be cast as a list or as a dict."
   ]
  },
  {
   "cell_type": "code",
   "execution_count": 43,
   "metadata": {},
   "outputs": [],
   "source": [
    "prime_doubles = [2*prime for prime in primes]"
   ]
  },
  {
   "cell_type": "code",
   "execution_count": 44,
   "metadata": {},
   "outputs": [
    {
     "data": {
      "text/plain": [
       "<zip at 0x10b271cc8>"
      ]
     },
     "execution_count": 44,
     "metadata": {},
     "output_type": "execute_result"
    }
   ],
   "source": [
    "zip(primes, prime_doubles)"
   ]
  },
  {
   "cell_type": "code",
   "execution_count": 45,
   "metadata": {},
   "outputs": [
    {
     "data": {
      "text/plain": [
       "[(2, 4), (3, 6), (5, 10), (7, 14), (11, 22), (13, 26), (17, 34), (19, 38)]"
      ]
     },
     "execution_count": 45,
     "metadata": {},
     "output_type": "execute_result"
    }
   ],
   "source": [
    "list(zip(primes, prime_doubles))"
   ]
  },
  {
   "cell_type": "code",
   "execution_count": 51,
   "metadata": {},
   "outputs": [
    {
     "data": {
      "text/plain": [
       "[(2, 4, 2),\n",
       " (3, 6, 3),\n",
       " (5, 10, 5),\n",
       " (7, 14, 7),\n",
       " (11, 22, 11),\n",
       " (13, 26, 13),\n",
       " (17, 34, 17),\n",
       " (19, 38, 19)]"
      ]
     },
     "execution_count": 51,
     "metadata": {},
     "output_type": "execute_result"
    }
   ],
   "source": [
    "list(zip(primes, prime_doubles,primes))"
   ]
  },
  {
   "cell_type": "code",
   "execution_count": 46,
   "metadata": {},
   "outputs": [
    {
     "data": {
      "text/plain": [
       "{2: 4, 3: 6, 5: 10, 7: 14, 11: 22, 13: 26, 17: 34, 19: 38}"
      ]
     },
     "execution_count": 46,
     "metadata": {},
     "output_type": "execute_result"
    }
   ],
   "source": [
    "dict(zip(primes, prime_doubles))"
   ]
  },
  {
   "cell_type": "markdown",
   "metadata": {},
   "source": [
    "## Built-In Functions\n",
    "\n",
    "Many useful functions are already built into Python:\n",
    "\n",
    "- ```print()```: print the given string or variable's value\n",
    "- ```type()```: returns the datatype of the argument\n",
    "- ```len()```: returns the length of an array\n",
    "- ```sum()```: returns the sum of the array's values\n",
    "- ```min()```: returns the smallest member of an array\n",
    "- ```max()```: returns the largest member of an array"
   ]
  },
  {
   "cell_type": "code",
   "execution_count": 14,
   "metadata": {},
   "outputs": [],
   "source": [
    "# print()\n",
    "# type()\n",
    "# len()\n",
    "# sum()\n",
    "# min()\n",
    "# max(['Natasha', 'Zander'])"
   ]
  },
  {
   "cell_type": "code",
   "execution_count": 52,
   "metadata": {},
   "outputs": [
    {
     "data": {
      "text/plain": [
       "'Zander'"
      ]
     },
     "execution_count": 52,
     "metadata": {},
     "output_type": "execute_result"
    }
   ],
   "source": [
    "max(['Natasha', 'Zander'])\n"
   ]
  },
  {
   "cell_type": "markdown",
   "metadata": {},
   "source": [
    "## While Loops\n",
    "\n",
    "We have already seen 'for'-loops, where you use a loop and count the iterations by the some pre-specified number. But sometimes we don't know how many times we'll need to iterate!\n",
    "\n",
    "Suppose I want to build a program that will take in a whole number and then tell me how many times 2 divides that number evenly. So e.g. 2 divides 4 twice but 10 only once (and 1536 nine times).\n",
    "\n",
    "A good first start is to take the input number and start dividing by 2. But when do I stop? Answer: When I reach an odd number!"
   ]
  },
  {
   "cell_type": "code",
   "execution_count": 53,
   "metadata": {},
   "outputs": [
    {
     "data": {
      "text/plain": [
       "9"
      ]
     },
     "execution_count": 53,
     "metadata": {},
     "output_type": "execute_result"
    }
   ],
   "source": [
    "# Let's code it!\n",
    "\n",
    "num = 1536\n",
    "\n",
    "counter = 0\n",
    "\n",
    "#each time i loop, update counter\n",
    "\n",
    "while num % 2 == 0:\n",
    "    counter += 1\n",
    "    num /= 2\n",
    "    \n",
    "counter\n"
   ]
  },
  {
   "cell_type": "code",
   "execution_count": 57,
   "metadata": {},
   "outputs": [
    {
     "ename": "SyntaxError",
     "evalue": "invalid syntax (<ipython-input-57-f6dbff4f512b>, line 11)",
     "output_type": "error",
     "traceback": [
      "\u001b[0;36m  File \u001b[0;32m\"<ipython-input-57-f6dbff4f512b>\"\u001b[0;36m, line \u001b[0;32m11\u001b[0m\n\u001b[0;31m    num =// 2\u001b[0m\n\u001b[0m          ^\u001b[0m\n\u001b[0;31mSyntaxError\u001b[0m\u001b[0;31m:\u001b[0m invalid syntax\n"
     ]
    }
   ],
   "source": [
    "# Let's code it!\n",
    "\n",
    "num = 1536\n",
    "\n",
    "counter = 0\n",
    "\n",
    "#each time i loop, update counter\n",
    "\n",
    "while type(num) == int:\n",
    "    counter += 1\n",
    "    num =// 2\n",
    "    \n",
    "counter\n"
   ]
  },
  {
   "cell_type": "markdown",
   "metadata": {},
   "source": [
    "## Nested Loops\n",
    "\n",
    "We can put loops inside of other loops! These come in handy especially when we have arrays inside of other arrays."
   ]
  },
  {
   "cell_type": "code",
   "execution_count": 58,
   "metadata": {},
   "outputs": [],
   "source": [
    "phone_nos = [{'greg': {'home': 1234567, 'work': 7654321}},\n",
    "          {'miles': {'home': 9876543, 'work': 1010001}},\n",
    "            {'cristian': {'home': 1111111, 'work': 2222222}},\n",
    "            {'kena': {'home': 3333333, 'work': 4444444}}]"
   ]
  },
  {
   "cell_type": "code",
   "execution_count": 67,
   "metadata": {},
   "outputs": [
    {
     "name": "stdout",
     "output_type": "stream",
     "text": [
      "1234567\n",
      "9876543\n",
      "1111111\n",
      "3333333\n"
     ]
    }
   ],
   "source": [
    "# Let's write a loop that will print the home number of\n",
    "# every person in my phone_nos list!\n",
    "for item in phone_nos:\n",
    "    for value in item.values():\n",
    "        for key,val in value.items():\n",
    "            if key  == 'home':\n",
    "                print(val)"
   ]
  },
  {
   "cell_type": "code",
   "execution_count": 72,
   "metadata": {},
   "outputs": [
    {
     "name": "stdout",
     "output_type": "stream",
     "text": [
      "[[1234567], [9876543], [1111111], [3333333]]\n"
     ]
    }
   ],
   "source": [
    "# Let's write a loop that will print the home number of\n",
    "# every person in my phone_nos list!\n",
    "print(list([entry[name]['home'] for name in entry] for entry in phone_nos))"
   ]
  },
  {
   "cell_type": "code",
   "execution_count": null,
   "metadata": {},
   "outputs": [],
   "source": [
    "for item in phone_nos:\n",
    "    "
   ]
  },
  {
   "cell_type": "markdown",
   "metadata": {},
   "source": [
    "## Functions\n",
    "\n",
    "This aspect of Python is _incredibly_ useful! Writing your own functions can save you a TON of work - by _automating_ it.\n",
    "\n",
    "### Creating Functions\n",
    "\n",
    "The first line will read:\n",
    "\n",
    "'def' + _your function's name_ + '( )' + ':'\n",
    "\n",
    "Any arguments to the function will go in the parentheses.\n",
    "\n",
    "Let's try building a function that will automate our task of finding all the factors of 2 of a given number!"
   ]
  },
  {
   "cell_type": "code",
   "execution_count": 74,
   "metadata": {},
   "outputs": [],
   "source": [
    "# Let's code it!\n",
    "\n",
    "def factor_of_two(num):\n",
    "    counter = 0\n",
    "#each time i loop, update counter\n",
    "    while num % 2 == 0:\n",
    "        counter += 1\n",
    "        num /= 2\n",
    "        \n",
    "    return counter\n"
   ]
  },
  {
   "cell_type": "code",
   "execution_count": 81,
   "metadata": {},
   "outputs": [
    {
     "data": {
      "text/plain": [
       "9"
      ]
     },
     "execution_count": 81,
     "metadata": {},
     "output_type": "execute_result"
    }
   ],
   "source": [
    "factor_of_two(1536)"
   ]
  },
  {
   "cell_type": "code",
   "execution_count": 82,
   "metadata": {},
   "outputs": [
    {
     "data": {
      "text/plain": [
       "3"
      ]
     },
     "execution_count": 82,
     "metadata": {},
     "output_type": "execute_result"
    }
   ],
   "source": [
    "factor_of_two(8)"
   ]
  },
  {
   "cell_type": "markdown",
   "metadata": {},
   "source": [
    "### Calling Functions\n",
    "\n",
    "To _call_ a function, simply type its name, along with any necessary arguments in parentheses."
   ]
  },
  {
   "cell_type": "code",
   "execution_count": null,
   "metadata": {},
   "outputs": [],
   "source": [
    "# Let's call it!\n"
   ]
  },
  {
   "cell_type": "markdown",
   "metadata": {},
   "source": [
    "### Default Argument Values\n",
    "\n",
    "Sometimes we'll want the argument(s) of our function to have default values."
   ]
  },
  {
   "cell_type": "code",
   "execution_count": 105,
   "metadata": {},
   "outputs": [],
   "source": [
    "def cheers(person, job = 'data scientist', age = 80):\n",
    "    return \"Hooray for \" + person +\". You're a \" + job + \" and you're \" + str(age) +\"!\""
   ]
  },
  {
   "cell_type": "code",
   "execution_count": 104,
   "metadata": {},
   "outputs": [
    {
     "ename": "TypeError",
     "evalue": "can only concatenate str (not \"int\") to str",
     "output_type": "error",
     "traceback": [
      "\u001b[0;31m---------------------------------------------------------------------------\u001b[0m",
      "\u001b[0;31mTypeError\u001b[0m                                 Traceback (most recent call last)",
      "\u001b[0;32m<ipython-input-104-be629c81b9ad>\u001b[0m in \u001b[0;36m<module>\u001b[0;34m\u001b[0m\n\u001b[0;32m----> 1\u001b[0;31m \u001b[0mcheers\u001b[0m\u001b[0;34m(\u001b[0m\u001b[0;34m'Kevin'\u001b[0m\u001b[0;34m,\u001b[0m \u001b[0mage\u001b[0m\u001b[0;34m=\u001b[0m \u001b[0;36m29\u001b[0m\u001b[0;34m)\u001b[0m\u001b[0;34m\u001b[0m\u001b[0;34m\u001b[0m\u001b[0m\n\u001b[0m",
      "\u001b[0;32m<ipython-input-103-28aeaf73f2de>\u001b[0m in \u001b[0;36mcheers\u001b[0;34m(person, job, age)\u001b[0m\n\u001b[1;32m      1\u001b[0m \u001b[0;32mdef\u001b[0m \u001b[0mcheers\u001b[0m\u001b[0;34m(\u001b[0m\u001b[0mperson\u001b[0m\u001b[0;34m,\u001b[0m \u001b[0mjob\u001b[0m \u001b[0;34m=\u001b[0m \u001b[0;34m'data scientist'\u001b[0m\u001b[0;34m,\u001b[0m \u001b[0mage\u001b[0m \u001b[0;34m=\u001b[0m \u001b[0;36m80\u001b[0m\u001b[0;34m)\u001b[0m\u001b[0;34m:\u001b[0m\u001b[0;34m\u001b[0m\u001b[0;34m\u001b[0m\u001b[0m\n\u001b[0;32m----> 2\u001b[0;31m     \u001b[0;32mreturn\u001b[0m \u001b[0;34m\"Hooray for \"\u001b[0m \u001b[0;34m+\u001b[0m \u001b[0mperson\u001b[0m \u001b[0;34m+\u001b[0m\u001b[0;34m\". You're a \"\u001b[0m \u001b[0;34m+\u001b[0m \u001b[0mjob\u001b[0m \u001b[0;34m+\u001b[0m \u001b[0;34m\" and you're \"\u001b[0m \u001b[0;34m+\u001b[0m \u001b[0mage\u001b[0m \u001b[0;34m+\u001b[0m\u001b[0;34m\"!\"\u001b[0m\u001b[0;34m\u001b[0m\u001b[0;34m\u001b[0m\u001b[0m\n\u001b[0m",
      "\u001b[0;31mTypeError\u001b[0m: can only concatenate str (not \"int\") to str"
     ]
    }
   ],
   "source": [
    "cheers('Kevin', age= 29)"
   ]
  },
  {
   "cell_type": "code",
   "execution_count": null,
   "metadata": {},
   "outputs": [],
   "source": []
  }
 ],
 "metadata": {
  "kernelspec": {
   "display_name": "Python 3",
   "language": "python",
   "name": "python3"
  },
  "language_info": {
   "codemirror_mode": {
    "name": "ipython",
    "version": 3
   },
   "file_extension": ".py",
   "mimetype": "text/x-python",
   "name": "python",
   "nbconvert_exporter": "python",
   "pygments_lexer": "ipython3",
   "version": "3.7.1"
  }
 },
 "nbformat": 4,
 "nbformat_minor": 2
}
